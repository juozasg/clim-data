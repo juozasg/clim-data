{
 "cells": [
  {
   "cell_type": "code",
   "execution_count": 1,
   "metadata": {},
   "outputs": [],
   "source": [
    "import numpy as np\n",
    "import xarray as xr\n",
    "import matplotlib.pyplot as plt\n",
    "import cartopy.crs as ccrs\n",
    "import cartopy \n",
    "from cartopy.util import add_cyclic_point\n",
    "import cartopy.mpl.ticker as cticker\n",
    "import xesmf as xe\n",
    "import matplotlib.colors as colors\n",
    "from scipy.stats import pearsonr"
   ]
  },
  {
   "cell_type": "code",
   "execution_count": 2,
   "metadata": {},
   "outputs": [],
   "source": [
    "def regrid(ds, var, lat_step=0.1, lon_step=0.1):\n",
    "    # Create new lons and lats on a regular grid\n",
    "    new_lat=np.arange(-90,90.1,lat_step)\n",
    "    new_lon=np.arange(0,360.1,lon_step)\n",
    "\n",
    "    # Create an xarray.Dataset that defines the new grid\n",
    "    ds_out = xr.Dataset({'lat': (['lat'], new_lat),\n",
    "                    'lon': (['lon'], new_lon)})\n",
    "    \n",
    "    # Regrid the data to the new grid \n",
    "    regridder = xe.Regridder(ds, ds_out, 'bilinear', reuse_weights=True)\n",
    "    dr = regridder(ds).to_dataset(name=var)\n",
    "    \n",
    "    dr = dr.sel(lat=slice(0,90))\n",
    "\n",
    "    return dr"
   ]
  },
  {
   "cell_type": "code",
   "execution_count": 25,
   "metadata": {},
   "outputs": [],
   "source": [
    "file='/home/ubuntu/asr15km.anl.2D.anoms.nc'\n",
    "anoms=xr.open_dataset(file)"
   ]
  },
  {
   "cell_type": "code",
   "execution_count": 39,
   "metadata": {},
   "outputs": [],
   "source": [
    "albedos = anoms['ALBEDO']"
   ]
  },
  {
   "cell_type": "code",
   "execution_count": 51,
   "metadata": {},
   "outputs": [],
   "source": [
    "nt = len(albedos['time'])"
   ]
  },
  {
   "cell_type": "code",
   "execution_count": 60,
   "metadata": {},
   "outputs": [],
   "source": [
    "albedosr = []\n",
    "for t in range(0,nt):\n",
    "    albedosr.append(regrid(albedos[t], 'ALBEDO'))"
   ]
  },
  {
   "cell_type": "code",
   "execution_count": 61,
   "metadata": {},
   "outputs": [],
   "source": [
    "ds_ars = xr.concat(albedosr, dim='time')\n",
    "ds_ars.to_netcdf('/home/ubuntu/asr15km.anl.2D.latlon.anoms.ALBEDO.nc')"
   ]
  }
 ],
 "metadata": {
  "kernelspec": {
   "display_name": "Python (clim680-xesmf)",
   "language": "python",
   "name": "clim680-xesmf"
  },
  "language_info": {
   "codemirror_mode": {
    "name": "ipython",
    "version": 3
   },
   "file_extension": ".py",
   "mimetype": "text/x-python",
   "name": "python",
   "nbconvert_exporter": "python",
   "pygments_lexer": "ipython3",
   "version": "3.7.8"
  }
 },
 "nbformat": 4,
 "nbformat_minor": 4
}
