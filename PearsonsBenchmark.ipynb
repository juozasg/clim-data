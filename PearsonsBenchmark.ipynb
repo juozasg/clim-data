{
 "cells": [
  {
   "cell_type": "code",
   "execution_count": 13,
   "metadata": {},
   "outputs": [],
   "source": [
    "import numpy as np\n",
    "import xarray as xr\n",
    "import matplotlib.pyplot as plt\n",
    "import cartopy.crs as ccrs\n",
    "import cartopy \n",
    "from cartopy.util import add_cyclic_point\n",
    "import cartopy.mpl.ticker as cticker\n",
    "import xesmf as xe\n",
    "import matplotlib.colors as colors\n",
    "from scipy.stats import pearsonr\n",
    "from scipy.stats import ttest_ind\n",
    "import time"
   ]
  },
  {
   "cell_type": "code",
   "execution_count": 10,
   "metadata": {},
   "outputs": [],
   "source": [
    "anoms_path='/home/ubuntu/asr15km.anl.2D.latlon.anoms.ALBEDO.nc'\n",
    "anoms=xr.open_dataset(anoms_path)\n",
    "\n",
    "ao_path='/home/ubuntu/indexes/ao.nc'\n",
    "ao=xr.open_dataset(ao_path)\n"
   ]
  },
  {
   "cell_type": "code",
   "execution_count": null,
   "metadata": {},
   "outputs": [],
   "source": []
  },
  {
   "cell_type": "code",
   "execution_count": 17,
   "metadata": {},
   "outputs": [
    {
     "name": "stdout",
     "output_type": "stream",
     "text": [
      "3601\n",
      "CPU times: user 835 ms, sys: 1.4 s, total: 2.23 s\n",
      "Wall time: 2.23 s\n"
     ]
    }
   ],
   "source": [
    "ds=anoms['ALBEDO']\n",
    "\n",
    "def benchmark(ds,ao):\n",
    "    nx=len(ds['lon'])\n",
    "    ny=len(ds['lat'])\n",
    "\n",
    "    p_array=np.zeros((ny,nx))\n",
    "    r_array=np.zeros((ny,nx))\n",
    "\n",
    "    print(nx)\n",
    "\n",
    "    i=0\n",
    "    for j in range(ny):\n",
    "        r,p=pearsonr(ao['ao'],ds[:,j,i])\n",
    "        r_array[j,i]=r\n",
    "        p_array[j,i]=p\n",
    "\n",
    "    \n",
    "%time benchmark(ds,ao)\n",
    "\n",
    "\n",
    "# for i in range(1):\n",
    "#     for j in range(ny):\n",
    "#         r,p=pearsonr(ao['ao'],ds[:,j,i])\n",
    "#         r_array[j,i]=r\n",
    "#         p_array[j,i]=p\n",
    "\n",
    "# r_array.shape"
   ]
  }
 ],
 "metadata": {
  "kernelspec": {
   "display_name": "Python (clim680-xesmf)",
   "language": "python",
   "name": "clim680-xesmf"
  },
  "language_info": {
   "codemirror_mode": {
    "name": "ipython",
    "version": 3
   },
   "file_extension": ".py",
   "mimetype": "text/x-python",
   "name": "python",
   "nbconvert_exporter": "python",
   "pygments_lexer": "ipython3",
   "version": "3.7.8"
  }
 },
 "nbformat": 4,
 "nbformat_minor": 4
}
