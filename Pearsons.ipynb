{
 "cells": [
  {
   "cell_type": "code",
   "execution_count": null,
   "metadata": {},
   "outputs": [],
   "source": [
    "# nino34_rmap=xr.corr(nino34['sst'],anoms['ALBEDO'],dim='time')\n",
    "\n",
    "anoms['ALBEDO']['x']\n",
    "\n",
    "nx=len(anoms['ALBEDO']['x'])\n",
    "ny=len(anoms['ALBEDO']['y'])\n",
    "\n",
    "p_array=np.zeros((ny,nx))\n",
    "r_array=np.zeros((ny,nx))\n",
    "\n",
    "for i in range(nx):\n",
    "    for j in range(ny):\n",
    "        r,p=pearsonr(nino34['sst'],anoms['ALBEDO'][:,j,i])\n",
    "        r_array[j,i]=r\n",
    "        p_array[j,i]=p\n",
    "r_array.shape"
   ]
  }
 ],
 "metadata": {
  "kernelspec": {
   "display_name": "Python 3",
   "language": "python",
   "name": "python3"
  },
  "language_info": {
   "codemirror_mode": {
    "name": "ipython",
    "version": 3
   },
   "file_extension": ".py",
   "mimetype": "text/x-python",
   "name": "python",
   "nbconvert_exporter": "python",
   "pygments_lexer": "ipython3",
   "version": "3.7.6"
  }
 },
 "nbformat": 4,
 "nbformat_minor": 4
}
